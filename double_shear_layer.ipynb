{
 "cells": [
  {
   "cell_type": "code",
   "execution_count": 1,
   "metadata": {},
   "outputs": [],
   "source": [
    "# 2D Lattice Boltzmann python code\n",
    "#@file double_shear_layer_bgk.py\n",
    "#@author Emmanuel Leveque (emmanuel.leveque@gmail.com)\n",
    "#@copyright Copyright (C) 2020 Emmanuel Leveque \n",
    "\n",
    "import numpy as np\n",
    "import matplotlib.pyplot as plt\n",
    "from matplotlib.pyplot import figure, draw, pause\n",
    "import time"
   ]
  },
  {
   "cell_type": "code",
   "execution_count": 2,
   "metadata": {},
   "outputs": [],
   "source": [
    "# parameters of the simulation\n",
    "\n",
    "NX = 256\n",
    "NY = NX\n",
    "\n",
    "iter_pause = 250\n",
    "iter_max = 10000\n",
    "\n",
    "k = 2*np.pi/float(NX)\n",
    "M = 0.3\n",
    "U0 = M/np.sqrt(3)\n",
    "rho0 = 1. # reference density \n",
    "Re = 5000.\n",
    "nu = U0*NX/Re\n",
    "tau = 3*nu + 0.5\n",
    "\n",
    "# D2Q9\n",
    "npop = 9\n",
    "w = np.asarray([4./9., 1./9., 1./9., 1./9., 1./9., 1./36., 1./36., 1./36., 1./36.])\n",
    "ex = np.asarray([0, 1, 0, -1, 0, 1, -1, -1, 1])\n",
    "ey = np.asarray([0, 0, 1, 0, -1, 1, 1, -1, -1])\n",
    "lopp = np.asarray([0, 3, 4,  1,  2, 7,  8,  5,  6])\n",
    "\n",
    "#--- definition ---\n",
    "def equilibrium(rho, ux, uy):\n",
    "    u2 = ux**2 + uy**2\n",
    "    u_dot_e = np.tensordot(ex, ux, axes=0) + np.tensordot(ey, uy, axes=0) #tensor product\n",
    "    feq = np.empty((npop, NX, NY))\n",
    "    for l in range(npop):\n",
    "        # second-order\n",
    "        # see skordos 10.1103/PhysRevE.4 8.4 823\n",
    "        feq[l, :, :] = w[l]*(rho-rho0 )+ w[l]*rho*(- 1.5*u2 + 3.*u_dot_e[l, :, :] + 4.5*u_dot_e[l, :, :]*u_dot_e[l, :, :])\n",
    "        # third-order\n",
    "        feq[l, :, :] += -w[l]*rho*4.5*u_dot_e[l, :, :]*u2\n",
    "        # fourth-order\n",
    "        feq[l, :, :] +=  w[l]*rho*(4.5*4.5*ux*ux*uy*uy*(ex[l]*ex[l]-1./3.)*(ey[l]*ey[l]-1./3.))\n",
    "    return feq\n",
    "\n",
    "def compute_macro(f_in):\n",
    "    rho = rho0+np.sum(f_in, axis=0)\n",
    "    ux = np.tensordot(ex, f_in, axes=1) / rho #tensor dot product\n",
    "    uy = np.tensordot(ey, f_in, axes=1) / rho\n",
    "    return rho, ux, uy\n",
    "\n",
    "\n",
    "def collide(f_out, f_in, rho, ux, uy, tau):\n",
    "    omega = 1./tau\n",
    "    f_out[:, :, :] = (1. - omega) * f_in[:, :, :] + omega * equilibrium(rho, ux, uy)\n",
    "\n",
    "    \n",
    "def stream(f_out, f_in):\n",
    "    for l in range(npop):\n",
    "        f_out[l,:,:] = np.roll(np.roll(f_in[l, :, :],ex[l],axis=0),ey[l],axis=1)"
   ]
  },
  {
   "cell_type": "code",
   "execution_count": 3,
   "metadata": {
    "scrolled": false
   },
   "outputs": [
    {
     "name": "stdout",
     "output_type": "stream",
     "text": [
      "Using matplotlib backend: Qt5Agg\n",
      "init total  mass 65536.0\n"
     ]
    }
   ],
   "source": [
    "%matplotlib\n",
    "#---init\n",
    "f = np.zeros((npop, NX, NX))\n",
    "fcoll = np.zeros((npop, NX, NY))\n",
    "fold = np.zeros((npop, NX, NY))\n",
    "\n",
    "rho = np.zeros((NX, NY))\n",
    "ux = np.zeros((NX, NY))\n",
    "uy = np.zeros((NX, NY))\n",
    "\n",
    "#init \n",
    "for i in range(NX):\n",
    "        for j in range(NY):\n",
    "                #double shear layer\n",
    "                if j <= NX/2:\n",
    "                    ux[i, j] = U0*np.tanh(80*(j/NX-0.25))\n",
    "                else:\n",
    "                    ux[i, j] = U0*np.tanh(80*(0.75-j/NX))\n",
    "                uy[i, j] = 0.05*U0*np.sin(2*np.pi*(i/float(NX)+0.25))\n",
    "                rho[i, j] = 1.\n",
    "\n",
    "fcoll = np.copy(equilibrium(rho, ux, uy))\n",
    "fstream = np.copy(fcoll)\n",
    "                \n",
    "fig_sim = figure(figsize=(8., 8.))\n",
    "ax_sim = fig_sim.gca()\n",
    "vorti = (np.gradient(uy, axis=0) - np.gradient(ux, axis=1)).T\n",
    "im_sim = ax_sim.imshow(vorti, origin='lower', vmin=-0.01, vmax=+0.01, cmap='bwr')\n",
    "ax_sim.set_title(r'$\\vec{\\omega}$')\n",
    "fig_sim.colorbar(im_sim,ax=ax_sim)\n",
    "plt.draw(), plt.pause(1e-2)\n",
    "\n",
    "print(\"init total  mass \"+str(np.sum(fcoll)+np.sum(rho0*np.ones((NX,NY)))))"
   ]
  },
  {
   "cell_type": "code",
   "execution_count": 4,
   "metadata": {},
   "outputs": [
    {
     "name": "stdout",
     "output_type": "stream",
     "text": [
      "LBM starts...\n",
      "iteration: 250 ... total  mass 65536.0 in 6.611935377120972 s\n",
      "iteration: 500 ... total  mass 65536.0 in 13.378009557723999 s\n",
      "iteration: 750 ... total  mass 65536.0 in 19.513631582260132 s\n",
      "iteration: 1000 ... total  mass 65536.0 in 26.351875066757202 s\n",
      "iteration: 1250 ... total  mass 65536.0 in 33.53923726081848 s\n",
      "iteration: 1500 ... total  mass 65536.0 in 40.657509326934814 s\n",
      "iteration: 1750 ... total  mass 65536.0 in 48.11403250694275 s\n",
      "iteration: 2000 ... total  mass 65536.0 in 55.27338528633118 s\n",
      "iteration: 2250 ... total  mass 65536.0 in 63.0614812374115 s\n",
      "iteration: 2500 ... total  mass 65536.0 in 70.160076379776 s\n",
      "iteration: 2750 ... total  mass 65536.0 in 77.44148921966553 s\n"
     ]
    },
    {
     "ename": "KeyboardInterrupt",
     "evalue": "",
     "output_type": "error",
     "traceback": [
      "\u001b[0;31m---------------------------------------------------------------------------\u001b[0m",
      "\u001b[0;31mKeyboardInterrupt\u001b[0m                         Traceback (most recent call last)",
      "\u001b[0;32m<ipython-input-4-948347699917>\u001b[0m in \u001b[0;36m<module>\u001b[0;34m\u001b[0m\n\u001b[1;32m      3\u001b[0m \u001b[0mstart\u001b[0m \u001b[0;34m=\u001b[0m \u001b[0mtime\u001b[0m\u001b[0;34m.\u001b[0m\u001b[0mtime\u001b[0m\u001b[0;34m(\u001b[0m\u001b[0;34m)\u001b[0m\u001b[0;34m\u001b[0m\u001b[0;34m\u001b[0m\u001b[0m\n\u001b[1;32m      4\u001b[0m \u001b[0;32mfor\u001b[0m \u001b[0mt\u001b[0m \u001b[0;32min\u001b[0m \u001b[0mrange\u001b[0m\u001b[0;34m(\u001b[0m\u001b[0;36m1\u001b[0m\u001b[0;34m,\u001b[0m \u001b[0miter_max\u001b[0m\u001b[0;34m+\u001b[0m\u001b[0;36m1\u001b[0m\u001b[0;34m)\u001b[0m\u001b[0;34m:\u001b[0m\u001b[0;34m\u001b[0m\u001b[0;34m\u001b[0m\u001b[0m\n\u001b[0;32m----> 5\u001b[0;31m     \u001b[0mcollide\u001b[0m\u001b[0;34m(\u001b[0m\u001b[0mfcoll\u001b[0m\u001b[0;34m,\u001b[0m \u001b[0mfstream\u001b[0m\u001b[0;34m,\u001b[0m \u001b[0mrho\u001b[0m\u001b[0;34m,\u001b[0m \u001b[0mux\u001b[0m \u001b[0;34m,\u001b[0m\u001b[0muy\u001b[0m\u001b[0;34m,\u001b[0m \u001b[0mtau\u001b[0m\u001b[0;34m)\u001b[0m\u001b[0;34m\u001b[0m\u001b[0;34m\u001b[0m\u001b[0m\n\u001b[0m\u001b[1;32m      6\u001b[0m     \u001b[0mstream\u001b[0m\u001b[0;34m(\u001b[0m\u001b[0mfstream\u001b[0m\u001b[0;34m,\u001b[0m \u001b[0mfcoll\u001b[0m\u001b[0;34m)\u001b[0m\u001b[0;34m\u001b[0m\u001b[0;34m\u001b[0m\u001b[0m\n\u001b[1;32m      7\u001b[0m     \u001b[0mrho\u001b[0m\u001b[0;34m,\u001b[0m \u001b[0mux\u001b[0m\u001b[0;34m,\u001b[0m \u001b[0muy\u001b[0m \u001b[0;34m=\u001b[0m \u001b[0mcompute_macro\u001b[0m\u001b[0;34m(\u001b[0m\u001b[0mfstream\u001b[0m\u001b[0;34m)\u001b[0m\u001b[0;34m\u001b[0m\u001b[0;34m\u001b[0m\u001b[0m\n",
      "\u001b[0;32m<ipython-input-2-6b0f416ca8f7>\u001b[0m in \u001b[0;36mcollide\u001b[0;34m(f_out, f_in, rho, ux, uy, tau)\u001b[0m\n\u001b[1;32m     46\u001b[0m \u001b[0;32mdef\u001b[0m \u001b[0mcollide\u001b[0m\u001b[0;34m(\u001b[0m\u001b[0mf_out\u001b[0m\u001b[0;34m,\u001b[0m \u001b[0mf_in\u001b[0m\u001b[0;34m,\u001b[0m \u001b[0mrho\u001b[0m\u001b[0;34m,\u001b[0m \u001b[0mux\u001b[0m\u001b[0;34m,\u001b[0m \u001b[0muy\u001b[0m\u001b[0;34m,\u001b[0m \u001b[0mtau\u001b[0m\u001b[0;34m)\u001b[0m\u001b[0;34m:\u001b[0m\u001b[0;34m\u001b[0m\u001b[0;34m\u001b[0m\u001b[0m\n\u001b[1;32m     47\u001b[0m     \u001b[0momega\u001b[0m \u001b[0;34m=\u001b[0m \u001b[0;36m1.\u001b[0m\u001b[0;34m/\u001b[0m\u001b[0mtau\u001b[0m\u001b[0;34m\u001b[0m\u001b[0;34m\u001b[0m\u001b[0m\n\u001b[0;32m---> 48\u001b[0;31m     \u001b[0mf_out\u001b[0m\u001b[0;34m[\u001b[0m\u001b[0;34m:\u001b[0m\u001b[0;34m,\u001b[0m \u001b[0;34m:\u001b[0m\u001b[0;34m,\u001b[0m \u001b[0;34m:\u001b[0m\u001b[0;34m]\u001b[0m \u001b[0;34m=\u001b[0m \u001b[0;34m(\u001b[0m\u001b[0;36m1.\u001b[0m \u001b[0;34m-\u001b[0m \u001b[0momega\u001b[0m\u001b[0;34m)\u001b[0m \u001b[0;34m*\u001b[0m \u001b[0mf_in\u001b[0m\u001b[0;34m[\u001b[0m\u001b[0;34m:\u001b[0m\u001b[0;34m,\u001b[0m \u001b[0;34m:\u001b[0m\u001b[0;34m,\u001b[0m \u001b[0;34m:\u001b[0m\u001b[0;34m]\u001b[0m \u001b[0;34m+\u001b[0m \u001b[0momega\u001b[0m \u001b[0;34m*\u001b[0m \u001b[0mequilibrium\u001b[0m\u001b[0;34m(\u001b[0m\u001b[0mrho\u001b[0m\u001b[0;34m,\u001b[0m \u001b[0mux\u001b[0m\u001b[0;34m,\u001b[0m \u001b[0muy\u001b[0m\u001b[0;34m)\u001b[0m\u001b[0;34m\u001b[0m\u001b[0;34m\u001b[0m\u001b[0m\n\u001b[0m\u001b[1;32m     49\u001b[0m \u001b[0;34m\u001b[0m\u001b[0m\n\u001b[1;32m     50\u001b[0m \u001b[0;34m\u001b[0m\u001b[0m\n",
      "\u001b[0;32m<ipython-input-2-6b0f416ca8f7>\u001b[0m in \u001b[0;36mequilibrium\u001b[0;34m(rho, ux, uy)\u001b[0m\n\u001b[1;32m     34\u001b[0m         \u001b[0mfeq\u001b[0m\u001b[0;34m[\u001b[0m\u001b[0ml\u001b[0m\u001b[0;34m,\u001b[0m \u001b[0;34m:\u001b[0m\u001b[0;34m,\u001b[0m \u001b[0;34m:\u001b[0m\u001b[0;34m]\u001b[0m \u001b[0;34m+=\u001b[0m \u001b[0;34m-\u001b[0m\u001b[0mw\u001b[0m\u001b[0;34m[\u001b[0m\u001b[0ml\u001b[0m\u001b[0;34m]\u001b[0m\u001b[0;34m*\u001b[0m\u001b[0mrho\u001b[0m\u001b[0;34m*\u001b[0m\u001b[0;36m4.5\u001b[0m\u001b[0;34m*\u001b[0m\u001b[0mu_dot_e\u001b[0m\u001b[0;34m[\u001b[0m\u001b[0ml\u001b[0m\u001b[0;34m,\u001b[0m \u001b[0;34m:\u001b[0m\u001b[0;34m,\u001b[0m \u001b[0;34m:\u001b[0m\u001b[0;34m]\u001b[0m\u001b[0;34m*\u001b[0m\u001b[0mu2\u001b[0m\u001b[0;34m\u001b[0m\u001b[0;34m\u001b[0m\u001b[0m\n\u001b[1;32m     35\u001b[0m         \u001b[0;31m# fourth-order\u001b[0m\u001b[0;34m\u001b[0m\u001b[0;34m\u001b[0m\u001b[0;34m\u001b[0m\u001b[0m\n\u001b[0;32m---> 36\u001b[0;31m         \u001b[0mfeq\u001b[0m\u001b[0;34m[\u001b[0m\u001b[0ml\u001b[0m\u001b[0;34m,\u001b[0m \u001b[0;34m:\u001b[0m\u001b[0;34m,\u001b[0m \u001b[0;34m:\u001b[0m\u001b[0;34m]\u001b[0m \u001b[0;34m+=\u001b[0m  \u001b[0mw\u001b[0m\u001b[0;34m[\u001b[0m\u001b[0ml\u001b[0m\u001b[0;34m]\u001b[0m\u001b[0;34m*\u001b[0m\u001b[0mrho\u001b[0m\u001b[0;34m*\u001b[0m\u001b[0;34m(\u001b[0m\u001b[0;36m4.5\u001b[0m\u001b[0;34m*\u001b[0m\u001b[0;36m4.5\u001b[0m\u001b[0;34m*\u001b[0m\u001b[0mux\u001b[0m\u001b[0;34m*\u001b[0m\u001b[0mux\u001b[0m\u001b[0;34m*\u001b[0m\u001b[0muy\u001b[0m\u001b[0;34m*\u001b[0m\u001b[0muy\u001b[0m\u001b[0;34m*\u001b[0m\u001b[0;34m(\u001b[0m\u001b[0mex\u001b[0m\u001b[0;34m[\u001b[0m\u001b[0ml\u001b[0m\u001b[0;34m]\u001b[0m\u001b[0;34m*\u001b[0m\u001b[0mex\u001b[0m\u001b[0;34m[\u001b[0m\u001b[0ml\u001b[0m\u001b[0;34m]\u001b[0m\u001b[0;34m-\u001b[0m\u001b[0;36m1.\u001b[0m\u001b[0;34m/\u001b[0m\u001b[0;36m3.\u001b[0m\u001b[0;34m)\u001b[0m\u001b[0;34m*\u001b[0m\u001b[0;34m(\u001b[0m\u001b[0mey\u001b[0m\u001b[0;34m[\u001b[0m\u001b[0ml\u001b[0m\u001b[0;34m]\u001b[0m\u001b[0;34m*\u001b[0m\u001b[0mey\u001b[0m\u001b[0;34m[\u001b[0m\u001b[0ml\u001b[0m\u001b[0;34m]\u001b[0m\u001b[0;34m-\u001b[0m\u001b[0;36m1.\u001b[0m\u001b[0;34m/\u001b[0m\u001b[0;36m3.\u001b[0m\u001b[0;34m)\u001b[0m\u001b[0;34m)\u001b[0m\u001b[0;34m\u001b[0m\u001b[0;34m\u001b[0m\u001b[0m\n\u001b[0m\u001b[1;32m     37\u001b[0m     \u001b[0;32mreturn\u001b[0m \u001b[0mfeq\u001b[0m\u001b[0;34m\u001b[0m\u001b[0;34m\u001b[0m\u001b[0m\n\u001b[1;32m     38\u001b[0m \u001b[0;34m\u001b[0m\u001b[0m\n",
      "\u001b[0;31mKeyboardInterrupt\u001b[0m: "
     ]
    }
   ],
   "source": [
    "# -----LBM-BGK-----\n",
    "print(\"LBM starts...\")\n",
    "start = time.time()\n",
    "for t in range(1, iter_max+1):\n",
    "    collide(fcoll, fstream, rho, ux ,uy, tau)\n",
    "    stream(fstream, fcoll)\n",
    "    rho, ux, uy = compute_macro(fstream)\n",
    "    \n",
    "    if (t%iter_pause == 0):\n",
    "        finish = time.time()\n",
    "        vorti = (np.gradient(uy, axis=0) - np.gradient(ux, axis=1)).T\n",
    "        im_sim.set_data(vorti)\n",
    "        plt.draw(), plt.pause(1e-2)\n",
    "        print(\"iteration: \"+str(t)+\" ... total  mass \"+str(np.sum(fstream)+np.sum(rho0*np.ones((NX,NY))))+\" in \"+str(finish-start)+\" s\")\n",
    "finish = time.time()        \n",
    "print(\"execution speed  =  \"+str(NX*NY*t/(finish-start)/10**6)+\" MLUPS in \"+str(finish-start)+\" s\")\n"
   ]
  },
  {
   "cell_type": "code",
   "execution_count": null,
   "metadata": {},
   "outputs": [],
   "source": []
  },
  {
   "cell_type": "code",
   "execution_count": null,
   "metadata": {},
   "outputs": [],
   "source": []
  },
  {
   "cell_type": "code",
   "execution_count": null,
   "metadata": {},
   "outputs": [],
   "source": []
  }
 ],
 "metadata": {
  "kernelspec": {
   "display_name": "Python 3",
   "language": "python",
   "name": "python3"
  },
  "language_info": {
   "codemirror_mode": {
    "name": "ipython",
    "version": 3
   },
   "file_extension": ".py",
   "mimetype": "text/x-python",
   "name": "python",
   "nbconvert_exporter": "python",
   "pygments_lexer": "ipython3",
   "version": "3.7.4"
  }
 },
 "nbformat": 4,
 "nbformat_minor": 4
}
